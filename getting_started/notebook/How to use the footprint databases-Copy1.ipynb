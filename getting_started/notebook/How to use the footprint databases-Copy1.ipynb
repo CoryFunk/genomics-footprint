{
 "cells": [
  {
   "cell_type": "markdown",
   "metadata": {},
   "source": [
    "Establish a connection specifying the footprint database of your interest to query."
   ]
  },
  {
   "cell_type": "code",
   "execution_count": 2,
   "metadata": {},
   "outputs": [
    {
     "name": "stderr",
     "output_type": "stream",
     "text": [
      "Loading required package: DBI\n"
     ]
    }
   ],
   "source": [
    "library(RPostgreSQL)"
   ]
  },
  {
   "cell_type": "code",
   "execution_count": 1,
   "metadata": {},
   "outputs": [
    {
     "ename": "ERROR",
     "evalue": "Error in dbConnect(PostgreSQL(), user = \"trena\", password = \"trena\", port = 5432, : could not find function \"dbConnect\"\n",
     "output_type": "error",
     "traceback": [
      "Error in dbConnect(PostgreSQL(), user = \"trena\", password = \"trena\", port = 5432, : could not find function \"dbConnect\"\nTraceback:\n"
     ]
    }
   ],
   "source": [
    "database.host <- \"bddsrds.globusgenomics.org\"\n",
    "dbname <- \"brain_hint_20\"\n",
    "\n",
    "db <- dbConnect(PostgreSQL(), user=\"trena\", password=\"trena\", port=5432, \n",
    "                host=database.host, dbname=dbname)\n",
    "summary(db)"
   ]
  }
 ],
 "metadata": {
  "kernelspec": {
   "display_name": "R",
   "language": "R",
   "name": "ir"
  },
  "language_info": {
   "codemirror_mode": "r",
   "file_extension": ".r",
   "mimetype": "text/x-r-source",
   "name": "R",
   "pygments_lexer": "r",
   "version": "3.4.2"
  }
 },
 "nbformat": 4,
 "nbformat_minor": 2
}
